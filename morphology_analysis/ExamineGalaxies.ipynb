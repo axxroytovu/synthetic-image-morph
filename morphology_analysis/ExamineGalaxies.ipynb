{
 "cells": [
  {
   "cell_type": "code",
   "execution_count": null,
   "metadata": {
    "collapsed": true
   },
   "outputs": [],
   "source": [
    "import astropy\n",
    "import astropy.io.ascii as ascii\n",
    "import pandas as pd\n",
    "import numpy as np\n",
    "import matplotlib\n",
    "from matplotlib import pyplot as plt\n",
    "import astropy.io.fits as pyfits\n",
    "\n",
    "import showgalaxy\n",
    "import masshistory\n",
    "\n",
    "print('List of available ID numbers: ',showgalaxy.listavailable())\n",
    "\n",
    "#def showgalaxy(subfindID,camera,filters=['NC-F115W','NC-F150W','NC-F200W'],alph=0.2,Q=8.0,Npix=400,sb='SB25')\n",
    "sfid=103899\n",
    "showgalaxy.showgalaxy(sfid,'00',Npix=100,sb='SB27',alph=1,size=10)\n",
    "\n",
    "\n"
   ]
  }
 ],
 "metadata": {
  "kernelspec": {
   "display_name": "Python 3",
   "language": "python",
   "name": "python3"
  },
  "language_info": {
   "codemirror_mode": {
    "name": "ipython",
    "version": 3
   },
   "file_extension": ".py",
   "mimetype": "text/x-python",
   "name": "python",
   "nbconvert_exporter": "python",
   "pygments_lexer": "ipython3",
   "version": "3.5.2"
  }
 },
 "nbformat": 4,
 "nbformat_minor": 2
}
